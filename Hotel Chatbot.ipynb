{
 "cells": [
  {
   "cell_type": "markdown",
   "metadata": {
    "id": "faUojVtgaTGc"
   },
   "source": [
    "# Hotel Chatbot\n",
    "\n",
    "This Project is based on the Hotel Chatbot problem. How can we provide better customer service at the front desk of a hotel? One simple way is to have an FAQ chatbot that is capable of answering simple questions about the hotel experience. There are many advantages to having a chatbot. \n",
    "\n",
    "1. It increases the appeal of the hotel and also increases information throughput.\n",
    "2. It creates a way to gather questions about the hotel in a data table form. \n",
    "\n",
    "In this notebook, I will be taking a look at 2 different models. The cosine similarity modela and the doc2vec model.\n"
   ]
  },
  {
   "cell_type": "markdown",
   "metadata": {
    "id": "pNceALtVaTGc"
   },
   "source": [
    "## 1. Adding knowledge base to your chatbot\n",
    "\n",
    "The Chatbot's ability to converse is defined by the data available to it. Take a look at the Ques.txt file to find questions and ans.txt file to find answers to those questions. This chatbot will essentially run a cosine similarity on a question posed with the question bank and try to find an answer. \n",
    "\n",
    "Let us begin by importing relevant libraries."
   ]
  },
  {
   "cell_type": "code",
   "execution_count": 1,
   "metadata": {
    "executionInfo": {
     "elapsed": 3,
     "status": "ok",
     "timestamp": 1625201864601,
     "user": {
      "displayName": "Albert Anthony",
      "photoUrl": "",
      "userId": "06779463251817115427"
     },
     "user_tz": -420
    },
    "id": "e__0bwBTaTGd"
   },
   "outputs": [],
   "source": [
    "import nltk # to process text data\n",
    "import numpy as np # to represent corpus as arrays\n",
    "import random \n",
    "import operator\n",
    "import string # to process standard python strings\n",
    "from sklearn.metrics.pairwise import cosine_similarity # We will use this later to decide how similar two sentences are\n",
    "from sklearn.feature_extraction.text import TfidfVectorizer # Remember when you built a function to create a tfidf bag of words in Experience 2? This function does the same thing!"
   ]
  },
  {
   "cell_type": "code",
   "execution_count": 3,
   "metadata": {
    "colab": {
     "base_uri": "https://localhost:8080/"
    },
    "executionInfo": {
     "elapsed": 539,
     "status": "ok",
     "timestamp": 1625201865138,
     "user": {
      "displayName": "Albert Anthony",
      "photoUrl": "",
      "userId": "06779463251817115427"
     },
     "user_tz": -420
    },
    "id": "R08PteSZaTGd",
    "outputId": "f9bf11e9-f1b9-45c7-91b2-70fdc692dc29"
   },
   "outputs": [
    {
     "name": "stdout",
     "output_type": "stream",
     "text": [
      "200$ per night is the price for a basic suite.\n",
      "\n",
      "This establishment was constructed and inaugurated by John S. on the 23rd of September 1965.\n",
      "\n",
      "Breakfast is served from 7 AM to 10 AM.\n",
      "\n",
      "The breakfast menu is decided as per the head chefs decision on the night before; kindly contact hotel staff for information about the menu on the night before. \n",
      "\n",
      "The Vance Hotel is a singular establishment designed and constructed by Lindsey Vance in 1949; it has hosted many dignitaries and government officials over the years.\n",
      "\n",
      "There are 43 rooms in this hotel including one pent house suite.\n",
      "\n",
      "We offer 4 types of rooms: basic, mid-level, premium and penthouse.\n",
      "\n",
      "This hotel is called Vance Hotel.\n",
      "\n",
      "Yes, room service is available 24 hrs.\n",
      "\n",
      "To call room service, please dial '0' using the phone in your room.\n",
      "\n",
      "Yes we have one restaurant currently called 'Rouge'.\n",
      "\n",
      "There are 12 floors in the hotel.\n",
      "\n",
      "300$ per night is the standard price for a mid-level suite.\n",
      "\n",
      "500$ per night is the price for a premium suite.\n",
      "\n",
      "Yes, we have tuxedo services available at the reception.\n",
      "\n",
      "Yes, we have a laundry service at the reception.\n",
      "\n",
      "'Rouge' is open for dinner at 7pm.\n",
      "\n",
      "There is a waterfall 200 meters east from the hotel, and we offer taxi services for such destinations and more.\n",
      "\n",
      "Yes, we do have a spa; however, it is closed from 7pm onwards.\n",
      "\n",
      "Yes, we do have massage packages inside our hotel.\n",
      "\n",
      "Check in is at anytime between 10am and 1pm.\n",
      "\n",
      "Check out is at anytime between 4pm and 6pm.\n",
      "\n",
      "Yes, we do.\n",
      "\n",
      "Yes.\n",
      "\n",
      "For parking lot reservations, there is a surcharge depending on fixed rates; please ask at the reception for more information.\n",
      "\n",
      "Our reception is open 24 hours.\n",
      "\n",
      "No, you cannot book breakfast online.\n",
      "\n",
      "No, you cannot book the spa online.\n",
      "\n",
      "No, you cannot book that online.\n",
      "\n",
      "Yes, we do have the facilities to take care of pets and support them.\n",
      "\n",
      "Rates are per room.\n",
      "\n",
      "The rates may vary as per availability and demand.\n",
      "\n",
      "Yes.\n",
      "\n",
      "Yes.\n",
      "\n",
      "Yes.\n",
      "\n",
      "There are 4 main sizes available:  basic, mid-level, premium and penthouse.\n",
      "\n",
      "Yes, for table reservations please contact the reception through the phone.\n",
      "\n",
      "Yes, we do.\n",
      "\n",
      "We do not have child special rooms but we do have cribs available through a surcharge.\n",
      "\n",
      "Yes.\n",
      "\n",
      "Yes.\n",
      "\n",
      "Yes, we do have a shuttle service and taxi service.\n",
      "\n",
      "Yes.\n",
      "\n",
      "Yes, we do try our best to provide quality services to you; if there is any other requests, kindly contact the staff.\n",
      "\n",
      "Check at the reception.\n",
      "\n",
      "You can check it out on your online booking reservation.\n",
      "\n",
      "Contact the reception through phone so that they may attempt to retrieve the item.\n",
      "What is the price of one night stay in basic suite?\n",
      "\n",
      "How old is this establishment?\n",
      "\n",
      "What time is breakfast served?\n",
      "\n",
      "What is the breakfast menu?\n",
      "\n",
      "What is the history behind this hotel or establishment?\n",
      "\n",
      "How many rooms are there in this hotel?\n",
      "\n",
      "What are the types of rooms or suites offered by the hotel?\n",
      "\n",
      "What is the name of the hotel?\n",
      "\n",
      "Is room service served 24 hours?\n",
      "\n",
      "How do I call for room service?\n",
      "\n",
      "Are there any restaurants in the hotel?\n",
      "\n",
      "How many floors are there in the hotel?\n",
      "\n",
      "What is the price of one night stay at the mid-level suite?\n",
      "\n",
      "What is the price of one night stay at the premium suite?\n",
      "\n",
      "Do you have tuxedo services?\n",
      "\n",
      "Do you have a laundry service?\n",
      "\n",
      "What time do the restaurants open for dinner?\n",
      "\n",
      "What are the near by tourist attractions?\n",
      "\n",
      "Is there a spa in the hotel?\n",
      "\n",
      "Is there anywhere I can get a massage?\n",
      "\n",
      "What time is the check in?\n",
      "\n",
      "What time is the check out?\n",
      "\n",
      "Do you offer handicapped rooms?\n",
      "\n",
      "Is parking available at the hotel?\n",
      "\n",
      "Can I reserve a parking lot?\n",
      "\n",
      "What are the reception opening hours?\n",
      "\n",
      "Can I also book breakfast online and what is the cost?\n",
      "\n",
      "Is it possible to book spa treatments online?\n",
      "\n",
      "Can I book tea time online?\n",
      "\n",
      "Can I bring my pet?\n",
      "\n",
      "Are the rates per person or per room?\n",
      "\n",
      "Why do the costs vary from day to day?\n",
      "\n",
      "Can I book two rooms of different categories?\n",
      "\n",
      "Can I book two rooms with different occupancy?\n",
      "\n",
      "Is Wi-Fi available at the hotel/in the room?\n",
      "\n",
      "Which size are the rooms?\n",
      "\n",
      "Can I reserve a table in a restaurant?\n",
      "\n",
      "Do you offer non-smoking rooms?\n",
      "\n",
      "Do you offer child rates?\n",
      "\n",
      "Can I use the spa area even if I am not staying in your hotel?\n",
      "\n",
      "Can I use the spa area after checking out?\n",
      "\n",
      "Do you offer hotel shuttles, for example, to the next airport or train station?\n",
      "\n",
      "Can I have breakfast/dinner even if I am not staying in your hotel?\n",
      "\n",
      "Are special requests, such as gluten-free meals or feather-free pillows, manageable?\n",
      "\n",
      "I have bought a Groupon-voucher, how can I redeem it in your hotel?\n",
      "\n",
      "Where can I get a copy of my invoice after departure?\n",
      "\n",
      "What should I do, if I lost or forgot something in my room?\n",
      "\n",
      "\n"
     ]
    }
   ],
   "source": [
    "import os\n",
    "filepath=os.getcwd()+r'\\\\hotelChat\\\\[Dataset] Module27 (ans).txt'\n",
    "corpus=open(filepath,'r',errors = 'ignore')\n",
    "raw_data_ans=corpus.read()\n",
    "print (raw_data_ans)\n",
    "filepath=os.getcwd()+'\\\\hotelChat\\\\[Dataset] Module27(ques).txt'\n",
    "corpus=open(filepath,'r',errors = 'ignore')\n",
    "raw_data=corpus.read()\n",
    "print (raw_data)"
   ]
  },
  {
   "cell_type": "markdown",
   "metadata": {
    "id": "3lJ5dsOvaTGo"
   },
   "source": [
    "####  Conversion to lower case\n",
    "\n",
    "We will convert all text to lower case first. Remember to inspect the result once we are done."
   ]
  },
  {
   "cell_type": "code",
   "execution_count": 4,
   "metadata": {
    "colab": {
     "base_uri": "https://localhost:8080/"
    },
    "executionInfo": {
     "elapsed": 5,
     "status": "ok",
     "timestamp": 1625201865139,
     "user": {
      "displayName": "Albert Anthony",
      "photoUrl": "",
      "userId": "06779463251817115427"
     },
     "user_tz": -420
    },
    "id": "KdWMJwPfaTGo",
    "outputId": "5b193850-dbbf-4622-aba8-69343552090f"
   },
   "outputs": [
    {
     "name": "stdout",
     "output_type": "stream",
     "text": [
      "what is the price of one night stay in basic suite?\n",
      "\n",
      "how old is this establishment?\n",
      "\n",
      "what time is breakfast served?\n",
      "\n",
      "what is the breakfast menu?\n",
      "\n",
      "what is the history behind this hotel or establishment?\n",
      "\n",
      "how many rooms are there in this hotel?\n",
      "\n",
      "what are the types of rooms or suites offered by the hotel?\n",
      "\n",
      "what is the name of the hotel?\n",
      "\n",
      "is room service served 24 hours?\n",
      "\n",
      "how do i call for room service?\n",
      "\n",
      "are there any restaurants in the hotel?\n",
      "\n",
      "how many floors are there in the hotel?\n",
      "\n",
      "what is the price of one night stay at the mid-level suite?\n",
      "\n",
      "what is the price of one night stay at the premium suite?\n",
      "\n",
      "do you have tuxedo services?\n",
      "\n",
      "do you have a laundry service?\n",
      "\n",
      "what time do the restaurants open for dinner?\n",
      "\n",
      "what are the near by tourist attractions?\n",
      "\n",
      "is there a spa in the hotel?\n",
      "\n",
      "is there anywhere i can get a massage?\n",
      "\n",
      "what time is the check in?\n",
      "\n",
      "what time is the check out?\n",
      "\n",
      "do you offer handicapped rooms?\n",
      "\n",
      "is parking available at the hotel?\n",
      "\n",
      "can i reserve a parking lot?\n",
      "\n",
      "what are the reception opening hours?\n",
      "\n",
      "can i also book breakfast online and what is the cost?\n",
      "\n",
      "is it possible to book spa treatments online?\n",
      "\n",
      "can i book tea time online?\n",
      "\n",
      "can i bring my pet?\n",
      "\n",
      "are the rates per person or per room?\n",
      "\n",
      "why do the costs vary from day to day?\n",
      "\n",
      "can i book two rooms of different categories?\n",
      "\n",
      "can i book two rooms with different occupancy?\n",
      "\n",
      "is wi-fi available at the hotel/in the room?\n",
      "\n",
      "which size are the rooms?\n",
      "\n",
      "can i reserve a table in a restaurant?\n",
      "\n",
      "do you offer non-smoking rooms?\n",
      "\n",
      "do you offer child rates?\n",
      "\n",
      "can i use the spa area even if i am not staying in your hotel?\n",
      "\n",
      "can i use the spa area after checking out?\n",
      "\n",
      "do you offer hotel shuttles, for example, to the next airport or train station?\n",
      "\n",
      "can i have breakfast/dinner even if i am not staying in your hotel?\n",
      "\n",
      "are special requests, such as gluten-free meals or feather-free pillows, manageable?\n",
      "\n",
      "i have bought a groupon-voucher, how can i redeem it in your hotel?\n",
      "\n",
      "where can i get a copy of my invoice after departure?\n",
      "\n",
      "what should i do, if i lost or forgot something in my room?\n",
      "\n",
      "\n"
     ]
    }
   ],
   "source": [
    "raw_data=raw_data.lower()# converts to lowercase\n",
    "print (raw_data)"
   ]
  },
  {
   "cell_type": "markdown",
   "metadata": {
    "id": "t729o2v7aTGp"
   },
   "source": [
    "####  Segmentation, Lematization and tokenization\n",
    "\n",
    "We will convert all text to lower case first. Remember to inspect the result once we are done."
   ]
  },
  {
   "cell_type": "code",
   "execution_count": 5,
   "metadata": {
    "colab": {
     "base_uri": "https://localhost:8080/"
    },
    "executionInfo": {
     "elapsed": 359,
     "status": "ok",
     "timestamp": 1625201872991,
     "user": {
      "displayName": "Albert Anthony",
      "photoUrl": "",
      "userId": "06779463251817115427"
     },
     "user_tz": -420
    },
    "id": "bd6adnm0aTGp",
    "outputId": "3ebb414b-4af6-4b08-b180-c9a9a750ea0c"
   },
   "outputs": [
    {
     "name": "stdout",
     "output_type": "stream",
     "text": [
      "['what is the price of one night stay in basic suite?', 'how old is this establishment?', 'what time is breakfast served?', 'what is the breakfast menu?', 'what is the history behind this hotel or establishment?', 'how many rooms are there in this hotel?', 'what are the types of rooms or suites offered by the hotel?', 'what is the name of the hotel?', 'is room service served 24 hours?', 'how do i call for room service?', 'are there any restaurants in the hotel?', 'how many floors are there in the hotel?', 'what is the price of one night stay at the mid-level suite?', 'what is the price of one night stay at the premium suite?', 'do you have tuxedo services?', 'do you have a laundry service?', 'what time do the restaurants open for dinner?', 'what are the near by tourist attractions?', 'is there a spa in the hotel?', 'is there anywhere i can get a massage?', 'what time is the check in?', 'what time is the check out?', 'do you offer handicapped rooms?', 'is parking available at the hotel?', 'can i reserve a parking lot?', 'what are the reception opening hours?', 'can i also book breakfast online and what is the cost?', 'is it possible to book spa treatments online?', 'can i book tea time online?', 'can i bring my pet?', 'are the rates per person or per room?', 'why do the costs vary from day to day?', 'can i book two rooms of different categories?', 'can i book two rooms with different occupancy?', 'is wi-fi available at the hotel/in the room?', 'which size are the rooms?', 'can i reserve a table in a restaurant?', 'do you offer non-smoking rooms?', 'do you offer child rates?', 'can i use the spa area even if i am not staying in your hotel?', 'can i use the spa area after checking out?', 'do you offer hotel shuttles, for example, to the next airport or train station?', 'can i have breakfast/dinner even if i am not staying in your hotel?', 'are special requests, such as gluten-free meals or feather-free pillows, manageable?', 'i have bought a groupon-voucher, how can i redeem it in your hotel?', 'where can i get a copy of my invoice after departure?', 'what should i do, if i lost or forgot something in my room?']\n"
     ]
    },
    {
     "name": "stderr",
     "output_type": "stream",
     "text": [
      "[nltk_data] Downloading package punkt to\n",
      "[nltk_data]     C:\\Users\\WIN10\\AppData\\Roaming\\nltk_data...\n",
      "[nltk_data]   Package punkt is already up-to-date!\n",
      "[nltk_data] Downloading package wordnet to\n",
      "[nltk_data]     C:\\Users\\WIN10\\AppData\\Roaming\\nltk_data...\n",
      "[nltk_data]   Package wordnet is already up-to-date!\n"
     ]
    }
   ],
   "source": [
    "import nltk\n",
    "nltk.download('punkt')\n",
    "nltk.download('wordnet')\n",
    "sent_tokens = nltk.sent_tokenize(raw_data)# converts documents to list of sentences \n",
    "\n",
    "print(sent_tokens)"
   ]
  },
  {
   "cell_type": "code",
   "execution_count": 6,
   "metadata": {
    "colab": {
     "base_uri": "https://localhost:8080/"
    },
    "executionInfo": {
     "elapsed": 502,
     "status": "ok",
     "timestamp": 1625201873809,
     "user": {
      "displayName": "Albert Anthony",
      "photoUrl": "",
      "userId": "06779463251817115427"
     },
     "user_tz": -420
    },
    "id": "RRuhV6wnaTGp",
    "outputId": "45b8a5aa-6e51-4684-c6f5-fdd3c1963a86"
   },
   "outputs": [
    {
     "name": "stdout",
     "output_type": "stream",
     "text": [
      "['200$ per night is the price for a basic suite.', 'This establishment was constructed and inaugurated by John S. on the 23rd of September 1965.', 'Breakfast is served from 7 AM to 10 AM.', 'The breakfast menu is decided as per the head chefs decision on the night before; kindly contact hotel staff for information about the menu on the night before.', 'The Vance Hotel is a singular establishment designed and constructed by Lindsey Vance in 1949; it has hosted many dignitaries and government officials over the years.', 'There are 43 rooms in this hotel including one pent house suite.', 'We offer 4 types of rooms: basic, mid-level, premium and penthouse.', 'This hotel is called Vance Hotel.', 'Yes, room service is available 24 hrs.', \"To call room service, please dial '0' using the phone in your room.\", \"Yes we have one restaurant currently called 'Rouge'.\", 'There are 12 floors in the hotel.', '300$ per night is the standard price for a mid-level suite.', '500$ per night is the price for a premium suite.', 'Yes, we have tuxedo services available at the reception.', 'Yes, we have a laundry service at the reception.', \"'Rouge' is open for dinner at 7pm.\", 'There is a waterfall 200 meters east from the hotel, and we offer taxi services for such destinations and more.', 'Yes, we do have a spa; however, it is closed from 7pm onwards.', 'Yes, we do have massage packages inside our hotel.', 'Check in is at anytime between 10am and 1pm.', 'Check out is at anytime between 4pm and 6pm.', 'Yes, we do.', 'Yes.', 'For parking lot reservations, there is a surcharge depending on fixed rates; please ask at the reception for more information.', 'Our reception is open 24 hours.', 'No, you cannot book breakfast online.', 'No, you cannot book the spa online.', 'No, you cannot book that online.', 'Yes, we do have the facilities to take care of pets and support them.', 'Rates are per room.', 'The rates may vary as per availability and demand.', 'Yes.', 'Yes.', 'Yes.', 'There are 4 main sizes available:  basic, mid-level, premium and penthouse.', 'Yes, for table reservations please contact the reception through the phone.', 'Yes, we do.', 'We do not have child special rooms but we do have cribs available through a surcharge.', 'Yes.', 'Yes.', 'Yes, we do have a shuttle service and taxi service.', 'Yes.', 'Yes, we do try our best to provide quality services to you; if there is any other requests, kindly contact the staff.', 'Check at the reception.', 'You can check it out on your online booking reservation.', 'Contact the reception through phone so that they may attempt to retrieve the item.']\n"
     ]
    }
   ],
   "source": [
    "sent_tokens_ans = nltk.sent_tokenize(raw_data_ans)# converts documents to list of sentences \n",
    "print(sent_tokens_ans)"
   ]
  },
  {
   "cell_type": "code",
   "execution_count": 7,
   "metadata": {
    "colab": {
     "base_uri": "https://localhost:8080/"
    },
    "executionInfo": {
     "elapsed": 1,
     "status": "ok",
     "timestamp": 1625201874211,
     "user": {
      "displayName": "Albert Anthony",
      "photoUrl": "",
      "userId": "06779463251817115427"
     },
     "user_tz": -420
    },
    "id": "h6JFAfDRaTGp",
    "outputId": "11eb25dd-d12b-4b5a-bf22-710a50655835"
   },
   "outputs": [
    {
     "name": "stdout",
     "output_type": "stream",
     "text": [
      "{'what is the price of one night stay in basic suite?': '200$ per night is the price for a basic suite.', 'how old is this establishment?': 'This establishment was constructed and inaugurated by John S. on the 23rd of September 1965.', 'what time is breakfast served?': 'Breakfast is served from 7 AM to 10 AM.', 'what is the breakfast menu?': 'The breakfast menu is decided as per the head chefs decision on the night before; kindly contact hotel staff for information about the menu on the night before.', 'what is the history behind this hotel or establishment?': 'The Vance Hotel is a singular establishment designed and constructed by Lindsey Vance in 1949; it has hosted many dignitaries and government officials over the years.', 'how many rooms are there in this hotel?': 'There are 43 rooms in this hotel including one pent house suite.', 'what are the types of rooms or suites offered by the hotel?': 'We offer 4 types of rooms: basic, mid-level, premium and penthouse.', 'what is the name of the hotel?': 'This hotel is called Vance Hotel.', 'is room service served 24 hours?': 'Yes, room service is available 24 hrs.', 'how do i call for room service?': \"To call room service, please dial '0' using the phone in your room.\", 'are there any restaurants in the hotel?': \"Yes we have one restaurant currently called 'Rouge'.\", 'how many floors are there in the hotel?': 'There are 12 floors in the hotel.', 'what is the price of one night stay at the mid-level suite?': '300$ per night is the standard price for a mid-level suite.', 'what is the price of one night stay at the premium suite?': '500$ per night is the price for a premium suite.', 'do you have tuxedo services?': 'Yes, we have tuxedo services available at the reception.', 'do you have a laundry service?': 'Yes, we have a laundry service at the reception.', 'what time do the restaurants open for dinner?': \"'Rouge' is open for dinner at 7pm.\", 'what are the near by tourist attractions?': 'There is a waterfall 200 meters east from the hotel, and we offer taxi services for such destinations and more.', 'is there a spa in the hotel?': 'Yes, we do have a spa; however, it is closed from 7pm onwards.', 'is there anywhere i can get a massage?': 'Yes, we do have massage packages inside our hotel.', 'what time is the check in?': 'Check in is at anytime between 10am and 1pm.', 'what time is the check out?': 'Check out is at anytime between 4pm and 6pm.', 'do you offer handicapped rooms?': 'Yes, we do.', 'is parking available at the hotel?': 'Yes.', 'can i reserve a parking lot?': 'For parking lot reservations, there is a surcharge depending on fixed rates; please ask at the reception for more information.', 'what are the reception opening hours?': 'Our reception is open 24 hours.', 'can i also book breakfast online and what is the cost?': 'No, you cannot book breakfast online.', 'is it possible to book spa treatments online?': 'No, you cannot book the spa online.', 'can i book tea time online?': 'No, you cannot book that online.', 'can i bring my pet?': 'Yes, we do have the facilities to take care of pets and support them.', 'are the rates per person or per room?': 'Rates are per room.', 'why do the costs vary from day to day?': 'The rates may vary as per availability and demand.', 'can i book two rooms of different categories?': 'Yes.', 'can i book two rooms with different occupancy?': 'Yes.', 'is wi-fi available at the hotel/in the room?': 'Yes.', 'which size are the rooms?': 'There are 4 main sizes available:  basic, mid-level, premium and penthouse.', 'can i reserve a table in a restaurant?': 'Yes, for table reservations please contact the reception through the phone.', 'do you offer non-smoking rooms?': 'Yes, we do.', 'do you offer child rates?': 'We do not have child special rooms but we do have cribs available through a surcharge.', 'can i use the spa area even if i am not staying in your hotel?': 'Yes.', 'can i use the spa area after checking out?': 'Yes.', 'do you offer hotel shuttles, for example, to the next airport or train station?': 'Yes, we do have a shuttle service and taxi service.', 'can i have breakfast/dinner even if i am not staying in your hotel?': 'Yes.', 'are special requests, such as gluten-free meals or feather-free pillows, manageable?': 'Yes, we do try our best to provide quality services to you; if there is any other requests, kindly contact the staff.', 'i have bought a groupon-voucher, how can i redeem it in your hotel?': 'Check at the reception.', 'where can i get a copy of my invoice after departure?': 'You can check it out on your online booking reservation.', 'what should i do, if i lost or forgot something in my room?': 'Contact the reception through phone so that they may attempt to retrieve the item.'}\n"
     ]
    }
   ],
   "source": [
    "res = {sent_tokens[i]: sent_tokens_ans[i] for i in range(len(sent_tokens))} \n",
    "print(res)"
   ]
  },
  {
   "cell_type": "code",
   "execution_count": 8,
   "metadata": {
    "colab": {
     "base_uri": "https://localhost:8080/"
    },
    "executionInfo": {
     "elapsed": 472,
     "status": "ok",
     "timestamp": 1625201875128,
     "user": {
      "displayName": "Albert Anthony",
      "photoUrl": "",
      "userId": "06779463251817115427"
     },
     "user_tz": -420
    },
    "id": "LYI2uuyTaTGq",
    "outputId": "a5594e85-0654-47e9-df50-b5f167eac199"
   },
   "outputs": [
    {
     "name": "stdout",
     "output_type": "stream",
     "text": [
      "['what', 'is', 'the', 'price', 'of', 'one', 'night', 'stay', 'in', 'basic', 'suite', '?', 'how', 'old', 'is', 'this', 'establishment', '?', 'what', 'time', 'is', 'breakfast', 'served', '?', 'what', 'is', 'the', 'breakfast', 'menu', '?', 'what', 'is', 'the', 'history', 'behind', 'this', 'hotel', 'or', 'establishment', '?', 'how', 'many', 'rooms', 'are', 'there', 'in', 'this', 'hotel', '?', 'what', 'are', 'the', 'types', 'of', 'rooms', 'or', 'suites', 'offered', 'by', 'the', 'hotel', '?', 'what', 'is', 'the', 'name', 'of', 'the', 'hotel', '?', 'is', 'room', 'service', 'served', '24', 'hours', '?', 'how', 'do', 'i', 'call', 'for', 'room', 'service', '?', 'are', 'there', 'any', 'restaurants', 'in', 'the', 'hotel', '?', 'how', 'many', 'floors', 'are', 'there', 'in', 'the', 'hotel', '?', 'what', 'is', 'the', 'price', 'of', 'one', 'night', 'stay', 'at', 'the', 'mid-level', 'suite', '?', 'what', 'is', 'the', 'price', 'of', 'one', 'night', 'stay', 'at', 'the', 'premium', 'suite', '?', 'do', 'you', 'have', 'tuxedo', 'services', '?', 'do', 'you', 'have', 'a', 'laundry', 'service', '?', 'what', 'time', 'do', 'the', 'restaurants', 'open', 'for', 'dinner', '?', 'what', 'are', 'the', 'near', 'by', 'tourist', 'attractions', '?', 'is', 'there', 'a', 'spa', 'in', 'the', 'hotel', '?', 'is', 'there', 'anywhere', 'i', 'can', 'get', 'a', 'massage', '?', 'what', 'time', 'is', 'the', 'check', 'in', '?', 'what', 'time', 'is', 'the', 'check', 'out', '?', 'do', 'you', 'offer', 'handicapped', 'rooms', '?', 'is', 'parking', 'available', 'at', 'the', 'hotel', '?', 'can', 'i', 'reserve', 'a', 'parking', 'lot', '?', 'what', 'are', 'the', 'reception', 'opening', 'hours', '?', 'can', 'i', 'also', 'book', 'breakfast', 'online', 'and', 'what', 'is', 'the', 'cost', '?', 'is', 'it', 'possible', 'to', 'book', 'spa', 'treatments', 'online', '?', 'can', 'i', 'book', 'tea', 'time', 'online', '?', 'can', 'i', 'bring', 'my', 'pet', '?', 'are', 'the', 'rates', 'per', 'person', 'or', 'per', 'room', '?', 'why', 'do', 'the', 'costs', 'vary', 'from', 'day', 'to', 'day', '?', 'can', 'i', 'book', 'two', 'rooms', 'of', 'different', 'categories', '?', 'can', 'i', 'book', 'two', 'rooms', 'with', 'different', 'occupancy', '?', 'is', 'wi-fi', 'available', 'at', 'the', 'hotel/in', 'the', 'room', '?', 'which', 'size', 'are', 'the', 'rooms', '?', 'can', 'i', 'reserve', 'a', 'table', 'in', 'a', 'restaurant', '?', 'do', 'you', 'offer', 'non-smoking', 'rooms', '?', 'do', 'you', 'offer', 'child', 'rates', '?', 'can', 'i', 'use', 'the', 'spa', 'area', 'even', 'if', 'i', 'am', 'not', 'staying', 'in', 'your', 'hotel', '?', 'can', 'i', 'use', 'the', 'spa', 'area', 'after', 'checking', 'out', '?', 'do', 'you', 'offer', 'hotel', 'shuttles', ',', 'for', 'example', ',', 'to', 'the', 'next', 'airport', 'or', 'train', 'station', '?', 'can', 'i', 'have', 'breakfast/dinner', 'even', 'if', 'i', 'am', 'not', 'staying', 'in', 'your', 'hotel', '?', 'are', 'special', 'requests', ',', 'such', 'as', 'gluten-free', 'meals', 'or', 'feather-free', 'pillows', ',', 'manageable', '?', 'i', 'have', 'bought', 'a', 'groupon-voucher', ',', 'how', 'can', 'i', 'redeem', 'it', 'in', 'your', 'hotel', '?', 'where', 'can', 'i', 'get', 'a', 'copy', 'of', 'my', 'invoice', 'after', 'departure', '?', 'what', 'should', 'i', 'do', ',', 'if', 'i', 'lost', 'or', 'forgot', 'something', 'in', 'my', 'room', '?']\n"
     ]
    }
   ],
   "source": [
    "word_tokens = nltk.word_tokenize(raw_data)# converts documents to list of words\n",
    "print (word_tokens)"
   ]
  },
  {
   "cell_type": "code",
   "execution_count": 9,
   "metadata": {
    "executionInfo": {
     "elapsed": 472,
     "status": "ok",
     "timestamp": 1625201875130,
     "user": {
      "displayName": "Albert Anthony",
      "photoUrl": "",
      "userId": "06779463251817115427"
     },
     "user_tz": -420
    },
    "id": "-7sg_IsiaTGq"
   },
   "outputs": [],
   "source": [
    "lemmer = nltk.stem.WordNetLemmatizer() #Initiate lemmer class. WordNet is a semantically-oriented dictionary of English included in NLTK.\n",
    "def LemTokens(tokens):\n",
    "    return [lemmer.lemmatize(token) for token in tokens]"
   ]
  },
  {
   "cell_type": "code",
   "execution_count": 10,
   "metadata": {
    "executionInfo": {
     "elapsed": 2,
     "status": "ok",
     "timestamp": 1625201875457,
     "user": {
      "displayName": "Albert Anthony",
      "photoUrl": "",
      "userId": "06779463251817115427"
     },
     "user_tz": -420
    },
    "id": "tNpTcnZQaTGq"
   },
   "outputs": [],
   "source": [
    "remove_punct_dict = dict((ord(punct), None) for punct in string.punctuation)\n",
    "def LemNormalize(text):\n",
    "    return LemTokens(nltk.word_tokenize(text.lower().translate(remove_punct_dict))) "
   ]
  },
  {
   "cell_type": "markdown",
   "metadata": {
    "id": "8yBNkjCkaTGq"
   },
   "source": [
    "## 2. Adding Chatbot functionality - Cosine similarity"
   ]
  },
  {
   "cell_type": "code",
   "execution_count": 11,
   "metadata": {
    "executionInfo": {
     "elapsed": 2,
     "status": "ok",
     "timestamp": 1625201875457,
     "user": {
      "displayName": "Albert Anthony",
      "photoUrl": "",
      "userId": "06779463251817115427"
     },
     "user_tz": -420
    },
    "id": "YKToF6tBaTGq"
   },
   "outputs": [],
   "source": [
    "GREETING_INPUTS = [\"hello\", \"hi\", \"greetings\", \"sup\", \"what's up\",\"hey\", \"hey there\"]\n",
    "GREETING_RESPONSES = [\"hi\", \"hey\", \"*nods*\", \"hi there\", \"hello\", \"I am glad! You are talking to me\"]\n",
    "\n",
    "def greeting(sentence):\n",
    "    for word in sentence.split(): # Looks at each word in your sentence\n",
    "        if word.lower() in GREETING_INPUTS: # checks if the word matches a GREETING_INPUT\n",
    "            return random.choice(GREETING_RESPONSES) # replies with a GREETING_RESPONSE"
   ]
  },
  {
   "cell_type": "markdown",
   "metadata": {
    "id": "OG8J9Y4haTGq"
   },
   "source": [
    "The functionality of the chatbot is done by creating a loop for running the chatbot. Take a loof at the function below. Each line in the function is important as it calls another function to perform an important step. The function 'response' is responsible for how the chatbot behaves. Having a master function for each functionality is recommended as good programming practise. \n"
   ]
  },
  {
   "cell_type": "code",
   "execution_count": 12,
   "metadata": {
    "executionInfo": {
     "elapsed": 1,
     "status": "ok",
     "timestamp": 1625201875761,
     "user": {
      "displayName": "Albert Anthony",
      "photoUrl": "",
      "userId": "06779463251817115427"
     },
     "user_tz": -420
    },
    "id": "ljpdA9lXaTGq"
   },
   "outputs": [],
   "source": [
    "def response(user_response):\n",
    "    \n",
    "    robo_response='' # initialize a variable to contain string\n",
    "    sent_tokens.append(user_response) #add user response to sent_tokens\n",
    "    TfidfVec = TfidfVectorizer(tokenizer=LemNormalize, stop_words='english') \n",
    "    tfidf = TfidfVec.fit_transform(sent_tokens) #get tfidf value\n",
    "    vals = cosine_similarity(tfidf[-1], tfidf) #get cosine similarity value\n",
    "    idx=vals.argsort()[0][-2] \n",
    "    flat = vals.flatten() \n",
    "    flat.sort() #sort in ascending order\n",
    "    req_tfidf = flat[-2] \n",
    "    \n",
    "    if(req_tfidf==0):\n",
    "        robo_response=robo_response+\"I am sorry! I don't understand you\"\n",
    "        return robo_response, vals\n",
    "    else:\n",
    "        robo_response = robo_response+res[sent_tokens[idx]]\n",
    "        return robo_response, vals"
   ]
  },
  {
   "cell_type": "markdown",
   "metadata": {
    "id": "MObdf0DbaTGq"
   },
   "source": [
    "Finally, let us create the chatbot interface and create a persona around it. Let us call it 'Jane' and use cosine similarity to find FAQs similar to the question asked and answer them. "
   ]
  },
  {
   "cell_type": "code",
   "execution_count": 13,
   "metadata": {
    "colab": {
     "base_uri": "https://localhost:8080/"
    },
    "executionInfo": {
     "elapsed": 10210,
     "status": "ok",
     "timestamp": 1625201887211,
     "user": {
      "displayName": "Albert Anthony",
      "photoUrl": "",
      "userId": "06779463251817115427"
     },
     "user_tz": -420
    },
    "id": "kAhwDtRAaTGr",
    "outputId": "a189d9b9-b5a9-472a-bcd2-0d1c3ec54cf0"
   },
   "outputs": [
    {
     "name": "stdout",
     "output_type": "stream",
     "text": [
      "Jane: My name is Jane. I will answer your queries about this hotel. If you want to exit, type Bye!\n",
      "bye\n",
      "Jane: Bye! take care..\n"
     ]
    }
   ],
   "source": [
    "\n",
    "flag=True\n",
    "print(\"Jane: My name is Jane. I will answer your queries about this hotel. If you want to exit, type Bye!\")\n",
    "while(flag==True):\n",
    "    user_response = input()\n",
    "    user_response=user_response.lower()\n",
    "    if(user_response!='bye'):\n",
    "        if(user_response=='thanks' or user_response=='thank you' ):\n",
    "            flag=False\n",
    "            print(\"Jane: You are welcome..\")\n",
    "        else:\n",
    "            if(greeting(user_response)!=None):\n",
    "                print(\"Jane: \"+greeting(user_response))\n",
    "\n",
    "            else:\n",
    "                print(\"Jane: \",end=\"\")\n",
    "                resp= response(user_response)\n",
    "                print(resp[0], )\n",
    "                sent_tokens.remove(user_response)\n",
    "                resp_l = resp[1].tolist()\n",
    "                resp_l[0].pop()\n",
    "                print(' (With similarity of ',max(resp_l[0]),')')\n",
    "\n",
    "    else:\n",
    "        flag=False\n",
    "        print(\"Jane: Bye! take care..\")\n",
    "       "
   ]
  },
  {
   "cell_type": "markdown",
   "metadata": {
    "id": "ti57IhXEaTGr"
   },
   "source": [
    "by## 3. Chatbot functionality using Doc2vec\n",
    "\n",
    "We will be covering one more type of model for creating chatbots. As we saw the cosine similarity model works on using that algorithm to find similarities between 2 sentences. But can we now use a neural network to solve this problem? Lets take a look.\n",
    "\n",
    "Doc2Vec is a neural network based model that essentially creates vectors out of documents. In order to understand Doc2vec you also need to understand word2vec. \n",
    "\n",
    "\n",
    "#### What is word2vec?\n",
    "It’s a Model to create the word embeddings, where it takes input as a large corpus of text and produces a vector space typically of several hundred dimesions. it was introduced in two papers between September and October 2013, by a team of researchers at Google. The underlying assumption of Word2Vec is that two words sharing similar contexts also share a similar meaning and consequently a similar vector representation from the model.\n",
    "\n",
    "For instance: “Bank”, “money” and “accounts” are often used in similar situations, with similar surrounding words like “dollar”, “loan” or “credit”, and according to Word2Vec they will therefore share a similar vector representation. \n",
    "\n",
    "![Image](img1.png)"
   ]
  },
  {
   "cell_type": "markdown",
   "metadata": {
    "id": "ajt10YajaTGr"
   },
   "source": [
    "#### What is Doc2vec?\n",
    "\n",
    "So the objective of Doc2vec is to create the numerical representation of sentence/paragraphs/documents unlike word2vec that computes a feature vector for every word in the corpus, Doc2Vec computes a feature vector for every document in the corpus. The vectors generated by Doc2vec can be used for tasks like finding similarity between sentences/paragraphs/documents\n",
    "\n",
    "<strong> We will be using this property of doc2vec to create our own similarity model.</strong>\n"
   ]
  },
  {
   "cell_type": "markdown",
   "metadata": {
    "id": "4rz_EMVtaTGr"
   },
   "source": [
    "Let us begin by importing the relevant libraries."
   ]
  },
  {
   "cell_type": "code",
   "execution_count": 14,
   "metadata": {
    "colab": {
     "base_uri": "https://localhost:8080/"
    },
    "executionInfo": {
     "elapsed": 10602,
     "status": "ok",
     "timestamp": 1625199335390,
     "user": {
      "displayName": "Albert Anthony",
      "photoUrl": "",
      "userId": "06779463251817115427"
     },
     "user_tz": -420
    },
    "id": "ItqcrhJpa8nd",
    "outputId": "2348a912-2fd5-4eda-fbf7-02dd45e96220"
   },
   "outputs": [
    {
     "data": {
      "text/plain": [
       "0"
      ]
     },
     "execution_count": 14,
     "metadata": {},
     "output_type": "execute_result"
    }
   ],
   "source": [
    "import subprocess\n",
    "import sys\n",
    "subprocess.check_call([sys.executable, \"-m\", \"pip\", \"install\", \"gensim == 3.8.1\"])"
   ]
  },
  {
   "cell_type": "code",
   "execution_count": 15,
   "metadata": {
    "executionInfo": {
     "elapsed": 387,
     "status": "ok",
     "timestamp": 1625201893472,
     "user": {
      "displayName": "Albert Anthony",
      "photoUrl": "",
      "userId": "06779463251817115427"
     },
     "user_tz": -420
    },
    "id": "u0uEPI3haTGs"
   },
   "outputs": [],
   "source": [
    "from gensim.models.doc2vec import Doc2Vec, TaggedDocument\n",
    "from nltk.tokenize import word_tokenize"
   ]
  },
  {
   "cell_type": "markdown",
   "metadata": {
    "id": "jCN-DoefaTGs"
   },
   "source": [
    "The first main aim is to tag our data. The doc2vec model requires us to tag our data to use it effectively. Here is a good learning link for a [starter code](https://www.kaggle.com/fmitchell259/creating-a-doc2vec-model) for doc2vec. The following [link](https://medium.com/wisio/a-gentle-introduction-to-doc2vec-db3e8c0cce5e) can also be usedful and it recommended to read them. "
   ]
  },
  {
   "cell_type": "code",
   "execution_count": 16,
   "metadata": {
    "executionInfo": {
     "elapsed": 1,
     "status": "ok",
     "timestamp": 1625201893805,
     "user": {
      "displayName": "Albert Anthony",
      "photoUrl": "",
      "userId": "06779463251817115427"
     },
     "user_tz": -420
    },
    "id": "kXe558qcaTGs"
   },
   "outputs": [],
   "source": [
    "tagged_data = [TaggedDocument(words=word_tokenize(_d.lower()), tags=[str(i)]) for i, _d in enumerate(sent_tokens)]"
   ]
  },
  {
   "cell_type": "code",
   "execution_count": 17,
   "metadata": {
    "executionInfo": {
     "elapsed": 301,
     "status": "ok",
     "timestamp": 1625201895886,
     "user": {
      "displayName": "Albert Anthony",
      "photoUrl": "",
      "userId": "06779463251817115427"
     },
     "user_tz": -420
    },
    "id": "dfTTPFpQaTGs"
   },
   "outputs": [],
   "source": [
    "max_epochs = 100\n",
    "vec_size = 20 # Increase this to have a larger vector. This will mean more differentiation. \n",
    "alpha = 0.025\n"
   ]
  },
  {
   "cell_type": "markdown",
   "metadata": {
    "id": "dfhX6BQeaTGs"
   },
   "source": [
    "The next step is to train the model. As before we will be using a `model.train` function to run the training process. Take a look at the [documentation](https://radimrehurek.com/gensim/models/doc2vec.html) for more information about how to train the Doc2vec model. "
   ]
  },
  {
   "cell_type": "code",
   "execution_count": 18,
   "metadata": {
    "colab": {
     "base_uri": "https://localhost:8080/"
    },
    "executionInfo": {
     "elapsed": 45968,
     "status": "ok",
     "timestamp": 1625201943421,
     "user": {
      "displayName": "Albert Anthony",
      "photoUrl": "",
      "userId": "06779463251817115427"
     },
     "user_tz": -420
    },
    "id": "h7ScV7f0aTGs",
    "outputId": "e226e5a2-e46b-4908-85e3-98defa6964a2"
   },
   "outputs": [
    {
     "name": "stderr",
     "output_type": "stream",
     "text": [
      "D:\\program\\anaconda3\\lib\\site-packages\\gensim\\models\\doc2vec.py:574: UserWarning: The parameter `size` is deprecated, will be removed in 4.0.0, use `vector_size` instead.\n",
      "  warnings.warn(\"The parameter `size` is deprecated, will be removed in 4.0.0, use `vector_size` instead.\")\n"
     ]
    },
    {
     "name": "stdout",
     "output_type": "stream",
     "text": [
      "iteration 0\n",
      "iteration 1\n",
      "iteration 2\n",
      "iteration 3\n",
      "iteration 4\n",
      "iteration 5\n",
      "iteration 6\n",
      "iteration 7\n",
      "iteration 8\n",
      "iteration 9\n",
      "iteration 10\n",
      "iteration 11\n",
      "iteration 12\n",
      "iteration 13\n",
      "iteration 14\n",
      "iteration 15\n",
      "iteration 16\n",
      "iteration 17\n",
      "iteration 18\n",
      "iteration 19\n",
      "iteration 20\n",
      "iteration 21\n",
      "iteration 22\n",
      "iteration 23\n",
      "iteration 24\n",
      "iteration 25\n",
      "iteration 26\n",
      "iteration 27\n",
      "iteration 28\n",
      "iteration 29\n",
      "iteration 30\n",
      "iteration 31\n",
      "iteration 32\n",
      "iteration 33\n",
      "iteration 34\n",
      "iteration 35\n",
      "iteration 36\n",
      "iteration 37\n",
      "iteration 38\n",
      "iteration 39\n",
      "iteration 40\n",
      "iteration 41\n",
      "iteration 42\n",
      "iteration 43\n",
      "iteration 44\n",
      "iteration 45\n",
      "iteration 46\n",
      "iteration 47\n",
      "iteration 48\n",
      "iteration 49\n",
      "iteration 50\n",
      "iteration 51\n",
      "iteration 52\n",
      "iteration 53\n",
      "iteration 54\n",
      "iteration 55\n",
      "iteration 56\n",
      "iteration 57\n",
      "iteration 58\n",
      "iteration 59\n",
      "iteration 60\n",
      "iteration 61\n",
      "iteration 62\n",
      "iteration 63\n",
      "iteration 64\n",
      "iteration 65\n",
      "iteration 66\n",
      "iteration 67\n",
      "iteration 68\n",
      "iteration 69\n",
      "iteration 70\n",
      "iteration 71\n",
      "iteration 72\n",
      "iteration 73\n",
      "iteration 74\n",
      "iteration 75\n",
      "iteration 76\n",
      "iteration 77\n",
      "iteration 78\n",
      "iteration 79\n",
      "iteration 80\n",
      "iteration 81\n",
      "iteration 82\n",
      "iteration 83\n",
      "iteration 84\n",
      "iteration 85\n",
      "iteration 86\n",
      "iteration 87\n",
      "iteration 88\n",
      "iteration 89\n",
      "iteration 90\n",
      "iteration 91\n",
      "iteration 92\n",
      "iteration 93\n",
      "iteration 94\n",
      "iteration 95\n",
      "iteration 96\n",
      "iteration 97\n",
      "iteration 98\n",
      "iteration 99\n",
      "Model Saved\n"
     ]
    }
   ],
   "source": [
    "\n",
    "model = Doc2Vec(size =vec_size,\n",
    "                alpha=alpha, \n",
    "                min_alpha=0.00025,\n",
    "                min_count=1,\n",
    "                dm =1)\n",
    "  \n",
    "model.build_vocab(tagged_data)\n",
    "\n",
    "for epoch in range(max_epochs):\n",
    "    print('iteration {0}'.format(epoch))\n",
    "    model.train(tagged_data, # tagged data to be used here\n",
    "                total_examples=model.corpus_count,\n",
    "                epochs=100)\n",
    "    # decrease the learning rate\n",
    "    model.alpha -= 0.0002\n",
    "    # fix the learning rate, no decay\n",
    "    model.min_alpha = model.alpha\n",
    "\n",
    "model.save(\"d2v.model\")\n",
    "print(\"Model Saved\")\n"
   ]
  },
  {
   "cell_type": "markdown",
   "metadata": {
    "id": "8THTIyMhaTGs"
   },
   "source": [
    "### Evaluating doc2vec model"
   ]
  },
  {
   "cell_type": "code",
   "execution_count": 19,
   "metadata": {
    "executionInfo": {
     "elapsed": 15,
     "status": "ok",
     "timestamp": 1625201943421,
     "user": {
      "displayName": "Albert Anthony",
      "photoUrl": "",
      "userId": "06779463251817115427"
     },
     "user_tz": -420
    },
    "id": "rc2d1J9-aTGs"
   },
   "outputs": [],
   "source": [
    "from gensim.models.doc2vec import Doc2Vec\n",
    "model= Doc2Vec.load(\"d2v.model\")"
   ]
  },
  {
   "cell_type": "code",
   "execution_count": 20,
   "metadata": {
    "executionInfo": {
     "elapsed": 15,
     "status": "ok",
     "timestamp": 1625201943422,
     "user": {
      "displayName": "Albert Anthony",
      "photoUrl": "",
      "userId": "06779463251817115427"
     },
     "user_tz": -420
    },
    "id": "iH3JR16OaTGs"
   },
   "outputs": [],
   "source": [
    "test_data = word_tokenize(\"How much is the price?\".lower())"
   ]
  },
  {
   "cell_type": "markdown",
   "metadata": {
    "id": "ImHFLBeFaTGs"
   },
   "source": [
    "We can use the `model.infer_vector` function to infer the vector associated with a document. We can then use a function called `most_similar` to find the most similar vectors to the one we have created. What are the results? "
   ]
  },
  {
   "cell_type": "code",
   "execution_count": 21,
   "metadata": {
    "colab": {
     "base_uri": "https://localhost:8080/"
    },
    "executionInfo": {
     "elapsed": 15,
     "status": "ok",
     "timestamp": 1625201943422,
     "user": {
      "displayName": "Albert Anthony",
      "photoUrl": "",
      "userId": "06779463251817115427"
     },
     "user_tz": -420
    },
    "id": "tHtGjgCtaTGt",
    "outputId": "c21a88e8-fdab-4470-dd7a-8ffc7ec69d04"
   },
   "outputs": [
    {
     "name": "stdout",
     "output_type": "stream",
     "text": [
      "V1_infer [-0.31049836  0.06523347 -0.56080514 -0.08755983 -0.07490178 -0.27964514\n",
      " -0.17794505 -0.02328572 -0.06956264 -0.7482151   0.07187324  0.20198242\n",
      " -0.48601356 -0.24023212 -0.3307099   0.6302217  -0.31298116 -0.54201674\n",
      " -0.11918977  0.24365172]\n"
     ]
    }
   ],
   "source": [
    "v1 = model.infer_vector(test_data)\n",
    "print(\"V1_infer\", v1)"
   ]
  },
  {
   "cell_type": "code",
   "execution_count": 22,
   "metadata": {
    "colab": {
     "base_uri": "https://localhost:8080/"
    },
    "executionInfo": {
     "elapsed": 14,
     "status": "ok",
     "timestamp": 1625201943423,
     "user": {
      "displayName": "Albert Anthony",
      "photoUrl": "",
      "userId": "06779463251817115427"
     },
     "user_tz": -420
    },
    "id": "6jcvVT6maTGt",
    "outputId": "8497571d-346f-42ae-f2d8-05c4f8b21cf7"
   },
   "outputs": [
    {
     "name": "stdout",
     "output_type": "stream",
     "text": [
      "[('41', 0.7254665493965149), ('25', 0.6682403087615967), ('27', 0.6634191870689392), ('38', 0.6337111592292786)]\n"
     ]
    }
   ],
   "source": [
    "similar_doc = model.docvecs.most_similar(positive = [v1], topn = 4) #positive is an attribute that shows positive correlation first followed by the correlation value\n",
    "print(similar_doc)"
   ]
  },
  {
   "cell_type": "code",
   "execution_count": 23,
   "metadata": {
    "colab": {
     "base_uri": "https://localhost:8080/"
    },
    "executionInfo": {
     "elapsed": 12,
     "status": "ok",
     "timestamp": 1625201943423,
     "user": {
      "displayName": "Albert Anthony",
      "photoUrl": "",
      "userId": "06779463251817115427"
     },
     "user_tz": -420
    },
    "id": "K5RVlbzkaTGt",
    "outputId": "3003c008-66f6-46d5-e1e8-3d1f1d283c92"
   },
   "outputs": [
    {
     "data": {
      "text/plain": [
       "TaggedDocument(words=['do', 'you', 'offer', 'hotel', 'shuttles', ',', 'for', 'example', ',', 'to', 'the', 'next', 'airport', 'or', 'train', 'station', '?'], tags=['41'])"
      ]
     },
     "execution_count": 23,
     "metadata": {},
     "output_type": "execute_result"
    }
   ],
   "source": [
    "num,_ = similar_doc[0]\n",
    "num = int(num)\n",
    "tagged_data[num]\n"
   ]
  },
  {
   "cell_type": "markdown",
   "metadata": {
    "id": "6nyV8stPaTGu"
   },
   "source": [
    "Here it is very clear from the output of the previous code block that this model is not as effective as one might have thought. Are there any guesses why this model failed where we expected it to succeed?"
   ]
  },
  {
   "cell_type": "markdown",
   "metadata": {
    "id": "IF3_3KTWaTGu"
   },
   "source": [
    "Click on this [link](https://stackoverflow.com/questions/58206571/doc2vec-find-the-similar-sentence) to learn more about this. The gist of the issue is this\n",
    "\n",
    "> Doc2Vec isn't going to give good results on toy-sized datasets, so you shouldn't expect anything meaningful until using much more data."
   ]
  },
  {
   "cell_type": "markdown",
   "metadata": {
    "id": "JkxnczmCaTGu"
   },
   "source": [
    "### Using pretrained doc2vec\n",
    "\n",
    "And so let us use a pretrained model downloaded from the internet to optimize our use case. The model we have acquired is trained on the associated press news and can be downloaded [here](https://github.com/jhlau/doc2vec).\n",
    "\n",
    "Let us load the model and evaluate it again."
   ]
  },
  {
   "cell_type": "code",
   "execution_count": 27,
   "metadata": {
    "executionInfo": {
     "elapsed": 15060,
     "status": "ok",
     "timestamp": 1625202451516,
     "user": {
      "displayName": "Albert Anthony",
      "photoUrl": "",
      "userId": "06779463251817115427"
     },
     "user_tz": -420
    },
    "id": "OwYkOiukaTGu"
   },
   "outputs": [],
   "source": [
    "model= Doc2Vec.load(os.getcwd()+r\"\\\\hotelChat\\\\doc2vec.bin\")"
   ]
  },
  {
   "cell_type": "code",
   "execution_count": 28,
   "metadata": {
    "executionInfo": {
     "elapsed": 18,
     "status": "ok",
     "timestamp": 1625202451519,
     "user": {
      "displayName": "Albert Anthony",
      "photoUrl": "",
      "userId": "06779463251817115427"
     },
     "user_tz": -420
    },
    "id": "x3oHXA5zaTGu"
   },
   "outputs": [],
   "source": [
    "test_data = word_tokenize(\"How much is the price?\".lower())"
   ]
  },
  {
   "cell_type": "code",
   "execution_count": 29,
   "metadata": {
    "colab": {
     "base_uri": "https://localhost:8080/"
    },
    "executionInfo": {
     "elapsed": 18,
     "status": "ok",
     "timestamp": 1625202451520,
     "user": {
      "displayName": "Albert Anthony",
      "photoUrl": "",
      "userId": "06779463251817115427"
     },
     "user_tz": -420
    },
    "id": "hkRhAtmEaTGu",
    "outputId": "7b5ccc32-2dab-470d-9ef6-ba2d7cd9820a"
   },
   "outputs": [
    {
     "name": "stdout",
     "output_type": "stream",
     "text": [
      "V1_infer [ 0.03475317 -0.0232788   0.00473981  0.00262373 -0.01251348  0.07123908\n",
      " -0.08395746 -0.06574792 -0.02189947  0.00627222  0.00682738  0.08678493\n",
      " -0.04159678 -0.0598289  -0.09617999  0.0339735  -0.0735061   0.03445594\n",
      " -0.06404027 -0.09197165 -0.09975794 -0.0393318   0.02397932  0.07204034\n",
      " -0.0021793  -0.10571146 -0.0257159  -0.0468796  -0.02843592  0.01477661\n",
      " -0.08576567 -0.00874451 -0.02925338  0.02389676  0.05420471  0.02479628\n",
      "  0.01870595  0.00267763 -0.02965032 -0.10261499  0.02571831  0.02557221\n",
      "  0.0552437   0.01456167 -0.02298301 -0.02992385  0.00195573 -0.05169348\n",
      " -0.01835014  0.05180986 -0.06865334 -0.04874812 -0.04033175 -0.03511868\n",
      "  0.00690063 -0.05041308  0.01281186  0.03844377  0.04192817 -0.07401887\n",
      "  0.06885412 -0.05911436 -0.05031609  0.05555575  0.02644834 -0.01291536\n",
      " -0.0963406  -0.08452649  0.09229217 -0.03283443 -0.03305859  0.05485052\n",
      " -0.02099306 -0.05570768  0.0150614   0.01698926  0.01828325  0.09762605\n",
      " -0.01140218  0.0387573  -0.0094849  -0.10025784  0.01450535 -0.05709103\n",
      " -0.06081119  0.02473808  0.05244712 -0.04219371  0.01418034 -0.02117415\n",
      " -0.0336628  -0.01197892 -0.09562037  0.02617728  0.03517248  0.00671078\n",
      "  0.00529176  0.00705714 -0.03514574 -0.08169851 -0.05304949  0.05442277\n",
      "  0.01679916 -0.00467061  0.01090018 -0.07486714  0.04764668 -0.02773721\n",
      " -0.00483967  0.03263045  0.00169716 -0.04086823  0.02912145 -0.03303891\n",
      "  0.04945363 -0.01592101  0.00583525  0.06560721 -0.0883038   0.11241552\n",
      " -0.03524172  0.02988194 -0.04730252 -0.01349105 -0.03188655 -0.05358657\n",
      "  0.03769685  0.02854865  0.00397022 -0.04169593 -0.00746894 -0.00513464\n",
      "  0.04252603 -0.03080748 -0.04997735  0.02892628 -0.04563939 -0.05121698\n",
      " -0.0723726   0.01133653  0.01745502 -0.00571066 -0.02161447  0.00031682\n",
      "  0.06930307 -0.02891216  0.08029882 -0.03060091 -0.05516661  0.02425529\n",
      " -0.01693712  0.02744242  0.07574499  0.04395903 -0.01621521 -0.06872136\n",
      "  0.00534913  0.00605812 -0.01620126 -0.03252926 -0.02337401 -0.00269695\n",
      "  0.00664021  0.0208963   0.02168357  0.07312305 -0.0373411   0.00637498\n",
      "  0.06071606  0.04225183 -0.10550703 -0.09245555  0.0117942  -0.02270626\n",
      " -0.06399324  0.01446437 -0.04181578 -0.01768474  0.06595812 -0.08467182\n",
      "  0.08732948 -0.01505363 -0.05471438 -0.00982167 -0.03565577 -0.03659343\n",
      "  0.01002617 -0.0044766   0.02578022  0.01829136  0.0036555   0.01686525\n",
      "  0.02577277  0.00894912  0.00251635 -0.01192328  0.00723812 -0.08188515\n",
      "  0.06197784 -0.03098563  0.05049049  0.0944489  -0.00522477 -0.02380583\n",
      "  0.05849366 -0.04486997 -0.05409902  0.07541517 -0.03870345 -0.12347929\n",
      " -0.03227332  0.05888348 -0.03020087 -0.00256455 -0.03254696 -0.04303935\n",
      "  0.04008427 -0.05673841  0.00447904 -0.01127829  0.06674986  0.00524578\n",
      " -0.07830539  0.02641238 -0.05421114  0.03040326 -0.00306534 -0.05351722\n",
      " -0.00340912 -0.01005019  0.014204    0.06708349 -0.02506565  0.02210749\n",
      "  0.01237434  0.03930805 -0.01313908  0.02029554  0.00245613  0.04853566\n",
      " -0.06223407 -0.04510525 -0.06887607 -0.00188586 -0.02313715  0.01484554\n",
      "  0.02767546  0.00850792  0.02543341 -0.01338412  0.04795785 -0.01312493\n",
      "  0.01790643 -0.01074773  0.05867102 -0.02968407  0.04873278 -0.04281057\n",
      " -0.02870835  0.00245303  0.07961175 -0.00992233 -0.12311464  0.0205066\n",
      "  0.00763662 -0.00241019  0.0147551   0.01884713  0.03183175 -0.01712202\n",
      "  0.00090478 -0.00390961  0.00848401 -0.02919468 -0.01169334 -0.04487947\n",
      "  0.0348169  -0.01569105  0.01425854 -0.03013671  0.0009731   0.020656\n",
      "  0.0523822  -0.05310985  0.09320813  0.05818271 -0.0480831  -0.02103515\n",
      " -0.04421102 -0.01013382  0.01093582 -0.05500516 -0.03182546  0.02688585\n",
      " -0.0284478  -0.03231426 -0.00896467 -0.04501015  0.00430614 -0.00095354]\n"
     ]
    }
   ],
   "source": [
    "v1 = model.infer_vector(test_data)\n",
    "print(\"V1_infer\", v1)"
   ]
  },
  {
   "cell_type": "code",
   "execution_count": 30,
   "metadata": {
    "colab": {
     "base_uri": "https://localhost:8080/"
    },
    "executionInfo": {
     "elapsed": 17,
     "status": "ok",
     "timestamp": 1625202451520,
     "user": {
      "displayName": "Albert Anthony",
      "photoUrl": "",
      "userId": "06779463251817115427"
     },
     "user_tz": -420
    },
    "id": "wen70awiaTGu",
    "outputId": "1c791631-02ea-4f0f-cee0-08f627ab0cb3"
   },
   "outputs": [
    {
     "name": "stdout",
     "output_type": "stream",
     "text": [
      "what is the price of one night stay in basic suite?\n",
      "[[0.5874423]]\n",
      "how old is this establishment?\n",
      "[[0.4858842]]\n",
      "what time is breakfast served?\n",
      "[[0.4509007]]\n",
      "what is the breakfast menu?\n",
      "[[0.5220691]]\n",
      "what is the history behind this hotel or establishment?\n",
      "[[0.42204374]]\n",
      "how many rooms are there in this hotel?\n",
      "[[0.5169172]]\n",
      "what are the types of rooms or suites offered by the hotel?\n",
      "[[0.4313618]]\n",
      "what is the name of the hotel?\n",
      "[[0.5501056]]\n",
      "is room service served 24 hours?\n",
      "[[0.33965442]]\n",
      "how do i call for room service?\n",
      "[[0.52169716]]\n",
      "are there any restaurants in the hotel?\n",
      "[[0.5188975]]\n",
      "how many floors are there in the hotel?\n",
      "[[0.4660408]]\n",
      "what is the price of one night stay at the mid-level suite?\n",
      "[[0.5426673]]\n",
      "what is the price of one night stay at the premium suite?\n",
      "[[0.5900573]]\n",
      "do you have tuxedo services?\n",
      "[[0.45683652]]\n",
      "do you have a laundry service?\n",
      "[[0.51981246]]\n",
      "what time do the restaurants open for dinner?\n",
      "[[0.5022719]]\n",
      "what are the near by tourist attractions?\n",
      "[[0.5370719]]\n",
      "is there a spa in the hotel?\n",
      "[[0.49904975]]\n",
      "is there anywhere i can get a massage?\n",
      "[[0.5184399]]\n",
      "what time is the check in?\n",
      "[[0.5519519]]\n",
      "what time is the check out?\n",
      "[[0.5669918]]\n",
      "do you offer handicapped rooms?\n",
      "[[0.47271317]]\n",
      "is parking available at the hotel?\n",
      "[[0.4570302]]\n",
      "can i reserve a parking lot?\n",
      "[[0.5075122]]\n",
      "what are the reception opening hours?\n",
      "[[0.39954925]]\n",
      "can i also book breakfast online and what is the cost?\n",
      "[[0.49713287]]\n",
      "is it possible to book spa treatments online?\n",
      "[[0.44221294]]\n",
      "can i book tea time online?\n",
      "[[0.5012496]]\n",
      "can i bring my pet?\n",
      "[[0.50640255]]\n",
      "are the rates per person or per room?\n",
      "[[0.5526844]]\n",
      "why do the costs vary from day to day?\n",
      "[[0.6255151]]\n",
      "can i book two rooms of different categories?\n",
      "[[0.46161404]]\n",
      "can i book two rooms with different occupancy?\n",
      "[[0.47119066]]\n",
      "is wi-fi available at the hotel/in the room?\n",
      "[[0.4912005]]\n",
      "which size are the rooms?\n",
      "[[0.5269934]]\n",
      "can i reserve a table in a restaurant?\n",
      "[[0.48393017]]\n",
      "do you offer non-smoking rooms?\n",
      "[[0.50196964]]\n",
      "do you offer child rates?\n",
      "[[0.5565491]]\n",
      "can i use the spa area even if i am not staying in your hotel?\n",
      "[[0.44783863]]\n",
      "can i use the spa area after checking out?\n",
      "[[0.42463267]]\n",
      "do you offer hotel shuttles, for example, to the next airport or train station?\n",
      "[[0.40292817]]\n",
      "can i have breakfast/dinner even if i am not staying in your hotel?\n",
      "[[0.48337355]]\n",
      "are special requests, such as gluten-free meals or feather-free pillows, manageable?\n",
      "[[0.34965223]]\n",
      "i have bought a groupon-voucher, how can i redeem it in your hotel?\n",
      "[[0.5647188]]\n",
      "where can i get a copy of my invoice after departure?\n",
      "[[0.43507892]]\n",
      "what should i do, if i lost or forgot something in my room?\n",
      "[[0.5393765]]\n"
     ]
    }
   ],
   "source": [
    "for i in sent_tokens:\n",
    "    v2 = model.infer_vector(word_tokenize(i.lower()))\n",
    "    print(i)\n",
    "    print(cosine_similarity(v1.reshape(1, -1),v2.reshape(1, -1)))"
   ]
  },
  {
   "cell_type": "code",
   "execution_count": 31,
   "metadata": {
    "executionInfo": {
     "elapsed": 14,
     "status": "ok",
     "timestamp": 1625202451520,
     "user": {
      "displayName": "Albert Anthony",
      "photoUrl": "",
      "userId": "06779463251817115427"
     },
     "user_tz": -420
    },
    "id": "cGEBbf8eaTGu"
   },
   "outputs": [],
   "source": [
    "def calc_prob(v1, q):\n",
    "    probs = dict()\n",
    "    for i in q:\n",
    "        v2 = model.infer_vector(word_tokenize(i.lower()))\n",
    "        sim = cosine_similarity(v1.reshape(1, -1),v2.reshape(1, -1))\n",
    "        #print(i)\n",
    "        #print(sim)\n",
    "        probs[i] = sim[0][0]\n",
    "    sorted_d = dict( sorted(probs.items(), key=operator.itemgetter(1),reverse=True))\n",
    "    \n",
    "    return list(sorted_d.items())[0]"
   ]
  },
  {
   "cell_type": "code",
   "execution_count": 32,
   "metadata": {
    "colab": {
     "base_uri": "https://localhost:8080/"
    },
    "executionInfo": {
     "elapsed": 13,
     "status": "ok",
     "timestamp": 1625202451520,
     "user": {
      "displayName": "Albert Anthony",
      "photoUrl": "",
      "userId": "06779463251817115427"
     },
     "user_tz": -420
    },
    "id": "NFb4-p0faTGu",
    "outputId": "0cd58c0a-2388-412a-c85c-a0b58d65ba1f"
   },
   "outputs": [
    {
     "data": {
      "text/plain": [
       "('why do the costs vary from day to day?', 0.6441365)"
      ]
     },
     "execution_count": 32,
     "metadata": {},
     "output_type": "execute_result"
    }
   ],
   "source": [
    "calc_prob(v1, sent_tokens)"
   ]
  },
  {
   "cell_type": "markdown",
   "metadata": {
    "id": "ISG0dPL8aTGv"
   },
   "source": [
    "Since it appears that this model is more effective lets incorporate it into our chatbot.\n"
   ]
  },
  {
   "cell_type": "code",
   "execution_count": 33,
   "metadata": {
    "colab": {
     "base_uri": "https://localhost:8080/",
     "height": 565
    },
    "executionInfo": {
     "elapsed": 12433,
     "status": "error",
     "timestamp": 1625202463943,
     "user": {
      "displayName": "Albert Anthony",
      "photoUrl": "",
      "userId": "06779463251817115427"
     },
     "user_tz": -420
    },
    "id": "S8JaMj8TaTGv",
    "outputId": "32ea27c9-eb69-4808-b6bc-fc6c6bbef947"
   },
   "outputs": [
    {
     "name": "stdout",
     "output_type": "stream",
     "text": [
      "Jane: My name is Jane. I will answer your queries about this hotel. If you want to exit, type Bye!\n",
      "why do the costs vary from day to day?\n",
      "Jane: The rates may vary as per availability and demand.\n",
      " (With similarity of  0.9145917 )\n",
      "bye\n",
      "Jane: Bye! take care..\n"
     ]
    }
   ],
   "source": [
    "flag=True\n",
    "print(\"Jane: My name is Jane. I will answer your queries about this hotel. If you want to exit, type Bye!\")\n",
    "while(flag==True):\n",
    "    user_response = input()\n",
    "    user_response=user_response.lower()\n",
    "    if(user_response!='bye'):\n",
    "        if(user_response=='thanks' or user_response=='thank you' ):\n",
    "            flag=False\n",
    "            print(\"Jane: You are welcome..\")\n",
    "        else:\n",
    "            if(greeting(user_response)!=None):\n",
    "                print(\"Jane: \"+greeting(user_response))\n",
    "\n",
    "            else:\n",
    "                print(\"Jane: \",end=\"\")\n",
    "                resp= calc_prob(model.infer_vector(word_tokenize(user_response)), sent_tokens)\n",
    "                print(res[resp[0]], )\n",
    "                print(' (With similarity of ',resp[1],')')\n",
    "\n",
    "    else:\n",
    "        flag=False\n",
    "        print(\"Jane: Bye! take care..\")"
   ]
  },
  {
   "cell_type": "markdown",
   "metadata": {
    "id": "g55PaQhWputU"
   },
   "source": [
    "**After observing the performance** of both of the models there are some clear conclusions that we can draw from this:\n",
    "\n",
    "1. The Doc2vec model requires a lot more data for it to understand the relationship between words. And even after using a pre-trained model there is a clear lack of quality in the responses from the model compared to the cosine similarity model. \n",
    "2. The cosine similarity model works better for a smaller and more well defined dataset. This means that a few simple questions can be solved effectively but complex questions that require context wont be solved by it. "
   ]
  },
  {
   "cell_type": "code",
   "execution_count": null,
   "metadata": {
    "executionInfo": {
     "elapsed": 10,
     "status": "aborted",
     "timestamp": 1625201945306,
     "user": {
      "displayName": "Albert Anthony",
      "photoUrl": "",
      "userId": "06779463251817115427"
     },
     "user_tz": -420
    },
    "id": "C2siuK5KlRah"
   },
   "outputs": [],
   "source": []
  }
 ],
 "metadata": {
  "colab": {
   "collapsed_sections": [],
   "name": "Notebook_Module_27_Hotel_Chatbot.ipynb",
   "provenance": []
  },
  "kernelspec": {
   "display_name": "Python 3",
   "language": "python",
   "name": "python3"
  },
  "language_info": {
   "codemirror_mode": {
    "name": "ipython",
    "version": 3
   },
   "file_extension": ".py",
   "mimetype": "text/x-python",
   "name": "python",
   "nbconvert_exporter": "python",
   "pygments_lexer": "ipython3",
   "version": "3.8.5"
  }
 },
 "nbformat": 4,
 "nbformat_minor": 1
}
